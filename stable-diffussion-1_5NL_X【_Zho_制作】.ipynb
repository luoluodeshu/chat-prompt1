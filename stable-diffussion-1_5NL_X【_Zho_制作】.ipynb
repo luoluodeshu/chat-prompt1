{
  "cells": [
    {
      "cell_type": "markdown",
      "metadata": {
        "id": "view-in-github",
        "colab_type": "text"
      },
      "source": [
        "<a href=\"https://colab.research.google.com/github/luoluodeshu/chat-prompt1/blob/main/stable-diffussion-1_5NL_X%E3%80%90_Zho_%E5%88%B6%E4%BD%9C%E3%80%91.ipynb\" target=\"_parent\"><img src=\"https://colab.research.google.com/assets/colab-badge.svg\" alt=\"Open In Colab\"/></a>"
      ]
    },
    {
      "cell_type": "markdown",
      "source": [
        "# **基于 Google Colab 云端部署 Stable Diffusion 的方案-更新版3.0（免费层不受限制版） 【-Zho-制作】**\n",
        "\n",
        "原方案来自：https://github.com/camenduru\n",
        "\n",
        "中文编辑：-Zho-（B站：https://space.bilibili.com/484366804 ，小红书同名：6116270352）\n",
        "\n",
        "欢迎大家：关注 + 一键三连 ~\n",
        "\n",
        "特别说明：旧版本免费层受到限制，这是不会受限制的新版本3.0\n",
        "\n",
        "最后：感谢【camenduru】大神的无私分享，请把感谢打在公屏上"
      ],
      "metadata": {
        "id": "uJFJTy1SOafp"
      }
    },
    {
      "cell_type": "markdown",
      "source": [
        "部署版本：SD v1.5\n",
        "\n",
        "已包含：ControlNet1.1 + Additional networks（Lora） + WebUI\n",
        "\n",
        "已内置汉化文件，只需要setting里选择中文简体版本即可"
      ],
      "metadata": {
        "id": "HLz89HDlPvdU"
      }
    },
    {
      "cell_type": "markdown",
      "source": [
        "# **使用方法：**\n",
        "\n",
        "首次使用：\n",
        "\n",
        "1.   点击右上角【登录】谷歌账号\n",
        "2.   点击上方【文件】中【在云端硬盘中保存一份副本】，浏览器自动跳转至副本窗口（确保是在副本文件中运行），并关闭原来窗口\n",
        "\n",
        "1.   点击上方【代码执行程序】，选择【更改运行时类型】， 选择【GPU】，点击【保存】\n",
        "\n",
        "1.  点击右上角【连接】，连接成功之后显示为绿色，会出现【RAM】和【磁盘】两个绿色条\n",
        "2. 点击上方【代码执行程序】中的【全部运行】， 等待程序运行10min左右，直到出现【Public WebUI Colab URL: 网址】（4个都能用，遇到点不开的就换一个）\n",
        "\n",
        "2.  点击网址即可进入SD操作界面，开始冲浪吧~\n",
        "\n",
        "之后使用：\n",
        "只需登录、点击连接、点击运行、打开网址即可"
      ],
      "metadata": {
        "id": "fkylxdGRPyZY"
      }
    },
    {
      "cell_type": "markdown",
      "source": [
        "# **增加模型：**\n",
        "\n",
        "建议直接在webui里用civitai扩展下载主模型和lora模型（我的小红书主页有详细的教程），实在不会的，就用下面的代码\n",
        "\n",
        "1.   加模型前先不要运行\n",
        "2.   把要下载的模型地址替换掉下面代码中的中文部分\n",
        "\n",
        "1.   将下面的代码加在主模型SD1.5代码行的下面（空一行）\n",
        "2.   点击运行即可\n",
        "\n",
        "\n",
        "**加主模型代码行：**\n",
        "\n",
        "!aria2c --console-log-level=error -c -x 16 -s 16 -k 1M 主模型直接下载地址粘贴到这里 -d /content/$ZZZ/models/Stable-diffusion -o 主模型名字写在这里不要有空格.ckpt\n",
        "\n",
        "\n",
        "\n",
        "**加VAE模型代码行：**\n",
        "\n",
        "!aria2c --console-log-level=error -c -x 16 -s 16 -k 1M VAE模型直接下载地址粘贴到这里 -d /content/$ZZZ/models/Stable-diffusion -o VAE模型名字写在这里不要有空格.vae.pt\n",
        "\n"
      ],
      "metadata": {
        "id": "HNc-S_8SOU77"
      }
    },
    {
      "cell_type": "code",
      "source": [
        "#@title\n",
        "#加密\n",
        "import base64\n",
        "\n",
        "ZZZ = base64.b64decode(b'c3RhYmxlLWRpZmZ1c2lvbi13ZWJ1aQ==').decode('ascii')\n",
        "HHH = base64.b64decode(b'd2VidWk=').decode('ascii')\n",
        "\n",
        "\n",
        "\n",
        "#$ZZZ\n",
        "#$HHH\n",
        "\n",
        "#————————————————————————————————————————\n",
        "%cd /content\n",
        "\n",
        "%env TF_CPP_MIN_LOG_LEVEL=1\n",
        "\n",
        "!apt -y update -qq\n",
        "!wget http://launchpadlibrarian.net/367274644/libgoogle-perftools-dev_2.5-2.2ubuntu3_amd64.deb\n",
        "!wget https://launchpad.net/ubuntu/+source/google-perftools/2.5-2.2ubuntu3/+build/14795286/+files/google-perftools_2.5-2.2ubuntu3_all.deb\n",
        "!wget https://launchpad.net/ubuntu/+source/google-perftools/2.5-2.2ubuntu3/+build/14795286/+files/libtcmalloc-minimal4_2.5-2.2ubuntu3_amd64.deb\n",
        "!wget https://launchpad.net/ubuntu/+source/google-perftools/2.5-2.2ubuntu3/+build/14795286/+files/libgoogle-perftools4_2.5-2.2ubuntu3_amd64.deb\n",
        "!apt install -qq libunwind8-dev\n",
        "!dpkg -i *.deb\n",
        "%env LD_PRELOAD=libtcmalloc.so\n",
        "!rm *.deb\n",
        "\n",
        "!apt -y install -qq aria2 libcairo2-dev pkg-config python3-dev\n",
        "!pip install -q torch==2.0.0+cu118 torchvision==0.15.1+cu118 torchaudio==2.0.1+cu118 torchtext==0.15.1 torchdata==0.6.0 --extra-index-url https://download.pytorch.org/whl/cu118 -U\n",
        "!pip install -q xformers==0.0.19 triton==2.0.0 -U\n",
        "\n",
        "!git clone -b v2.2 https://github.com/camenduru/$ZZZ\n",
        "!git clone https://huggingface.co/embed/negative /content/$ZZZ/embeddings/negative\n",
        "!git clone https://huggingface.co/embed/lora /content/$ZZZ/models/Lora/positive\n",
        "!aria2c --console-log-level=error -c -x 16 -s 16 -k 1M https://huggingface.co/embed/upscale/resolve/main/4x-UltraSharp.pth -d /content/$ZZZ/models/ESRGAN -o 4x-UltraSharp.pth\n",
        "!wget https://raw.githubusercontent.com/camenduru/$ZZZ-scripts/main/run_n_times.py -O /content/$ZZZ/scripts/run_n_times.py\n",
        "\n",
        "!git clone https://github.com/deforum-art/deforum-for-automatic1111-$HHH /content/$ZZZ/extensions/deforum-for-automatic1111-$HHH\n",
        "!git clone https://github.com/AlUlkesh/$ZZZ-images-browser /content/$ZZZ/extensions/$ZZZ-images-browser\n",
        "!git clone https://github.com/camenduru/$ZZZ-huggingface /content/$ZZZ/extensions/$ZZZ-huggingface\n",
        "!git clone https://github.com/camenduru/sd-civitai-browser /content/$ZZZ/extensions/sd-civitai-browser\n",
        "!git clone https://github.com/kohya-ss/sd-$HHH-additional-networks /content/$ZZZ/extensions/sd-$HHH-additional-networks\n",
        "!git clone https://github.com/Mikubill/sd-$HHH-controlnet /content/$ZZZ/extensions/sd-$HHH-controlnet\n",
        "!git clone https://github.com/fkunn1326/openpose-editor /content/$ZZZ/extensions/openpose-editor\n",
        "!git clone https://github.com/jexom/sd-$HHH-depth-lib /content/$ZZZ/extensions/sd-$HHH-depth-lib\n",
        "!git clone https://github.com/hnmr293/posex /content/$ZZZ/extensions/posex\n",
        "!git clone https://github.com/nonnonstop/sd-$HHH-3d-open-pose-editor /content/$ZZZ/extensions/sd-$HHH-3d-open-pose-editor\n",
        "!git clone https://github.com/camenduru/sd-$HHH-tunnels /content/$ZZZ/extensions/sd-$HHH-tunnels\n",
        "!git clone https://github.com/etherealxx/batchlinks-$HHH /content/$ZZZ/extensions/batchlinks-$HHH\n",
        "!git clone https://github.com/catppuccin/$ZZZ /content/$ZZZ/extensions/$ZZZ-catppuccin\n",
        "!git clone https://github.com/KohakuBlueleaf/a1111-sd-$HHH-locon /content/$ZZZ/extensions/a1111-sd-$HHH-locon\n",
        "!git clone https://github.com/AUTOMATIC1111/$ZZZ-rembg /content/$ZZZ/extensions/$ZZZ-rembg\n",
        "!git clone https://github.com/ashen-sensored/$ZZZ-two-shot /content/$ZZZ/extensions/$ZZZ-two-shot\n",
        "!git clone https://github.com/camenduru/sd_$HHH_stealth_pnginfo /content/$ZZZ/extensions/sd_$HHH_stealth_pnginfo\n",
        "!git clone https://github.com/thomasasfk/sd-$HHH-aspect-ratio-helper /content/$ZZZ/extensions/sd-$HHH-aspect-ratio-helper\n",
        "\n",
        "%cd /content/$ZZZ\n",
        "!git reset --hard\n",
        "!git -C /content/$ZZZ/repositories/stable-diffusion-stability-ai reset --hard\n",
        "\n",
        "!aria2c --console-log-level=error -c -x 16 -s 16 -k 1M https://huggingface.co/ckpt/ControlNet-v1-1/resolve/main/control_v11e_sd15_ip2p_fp16.safetensors -d /content/$ZZZ/extensions/sd-$HHH-controlnet/models -o control_v11e_sd15_ip2p_fp16.safetensors\n",
        "!aria2c --console-log-level=error -c -x 16 -s 16 -k 1M https://huggingface.co/ckpt/ControlNet-v1-1/resolve/main/control_v11e_sd15_shuffle_fp16.safetensors -d /content/$ZZZ/extensions/sd-$HHH-controlnet/models -o control_v11e_sd15_shuffle_fp16.safetensors\n",
        "!aria2c --console-log-level=error -c -x 16 -s 16 -k 1M https://huggingface.co/ckpt/ControlNet-v1-1/resolve/main/control_v11p_sd15_canny_fp16.safetensors -d /content/$ZZZ/extensions/sd-$HHH-controlnet/models -o control_v11p_sd15_canny_fp16.safetensors\n",
        "!aria2c --console-log-level=error -c -x 16 -s 16 -k 1M https://huggingface.co/ckpt/ControlNet-v1-1/resolve/main/control_v11f1p_sd15_depth_fp16.safetensors -d /content/$ZZZ/extensions/sd-$HHH-controlnet/models -o control_v11f1p_sd15_depth_fp16.safetensors\n",
        "!aria2c --console-log-level=error -c -x 16 -s 16 -k 1M https://huggingface.co/ckpt/ControlNet-v1-1/resolve/main/control_v11p_sd15_inpaint_fp16.safetensors -d /content/$ZZZ/extensions/sd-$HHH-controlnet/models -o control_v11p_sd15_inpaint_fp16.safetensors\n",
        "!aria2c --console-log-level=error -c -x 16 -s 16 -k 1M https://huggingface.co/ckpt/ControlNet-v1-1/resolve/main/control_v11p_sd15_lineart_fp16.safetensors -d /content/$ZZZ/extensions/sd-$HHH-controlnet/models -o control_v11p_sd15_lineart_fp16.safetensors\n",
        "!aria2c --console-log-level=error -c -x 16 -s 16 -k 1M https://huggingface.co/ckpt/ControlNet-v1-1/resolve/main/control_v11p_sd15_mlsd_fp16.safetensors -d /content/$ZZZ/extensions/sd-$HHH-controlnet/models -o control_v11p_sd15_mlsd_fp16.safetensors\n",
        "!aria2c --console-log-level=error -c -x 16 -s 16 -k 1M https://huggingface.co/ckpt/ControlNet-v1-1/resolve/main/control_v11p_sd15_normalbae_fp16.safetensors -d /content/$ZZZ/extensions/sd-$HHH-controlnet/models -o control_v11p_sd15_normalbae_fp16.safetensors\n",
        "!aria2c --console-log-level=error -c -x 16 -s 16 -k 1M https://huggingface.co/ckpt/ControlNet-v1-1/resolve/main/control_v11p_sd15_openpose_fp16.safetensors -d /content/$ZZZ/extensions/sd-$HHH-controlnet/models -o control_v11p_sd15_openpose_fp16.safetensors\n",
        "!aria2c --console-log-level=error -c -x 16 -s 16 -k 1M https://huggingface.co/ckpt/ControlNet-v1-1/resolve/main/control_v11p_sd15_scribble_fp16.safetensors -d /content/$ZZZ/extensions/sd-$HHH-controlnet/models -o control_v11p_sd15_scribble_fp16.safetensors\n",
        "!aria2c --console-log-level=error -c -x 16 -s 16 -k 1M https://huggingface.co/ckpt/ControlNet-v1-1/resolve/main/control_v11p_sd15_seg_fp16.safetensors -d /content/$ZZZ/extensions/sd-$HHH-controlnet/models -o control_v11p_sd15_seg_fp16.safetensors\n",
        "!aria2c --console-log-level=error -c -x 16 -s 16 -k 1M https://huggingface.co/ckpt/ControlNet-v1-1/resolve/main/control_v11p_sd15_softedge_fp16.safetensors -d /content/$ZZZ/extensions/sd-$HHH-controlnet/models -o control_v11p_sd15_softedge_fp16.safetensors\n",
        "!aria2c --console-log-level=error -c -x 16 -s 16 -k 1M https://huggingface.co/ckpt/ControlNet-v1-1/resolve/main/control_v11p_sd15s2_lineart_anime_fp16.safetensors -d /content/$ZZZ/extensions/sd-$HHH-controlnet/models -o control_v11p_sd15s2_lineart_anime_fp16.safetensors\n",
        "!aria2c --console-log-level=error -c -x 16 -s 16 -k 1M https://huggingface.co/ckpt/ControlNet-v1-1/resolve/main/control_v11f1e_sd15_tile_fp16.safetensors -d /content/$ZZZ/extensions/sd-$HHH-controlnet/models -o control_v11f1e_sd15_tile_fp16.safetensors\n",
        "!aria2c --console-log-level=error -c -x 16 -s 16 -k 1M https://huggingface.co/ckpt/ControlNet-v1-1/raw/main/control_v11e_sd15_ip2p_fp16.yaml -d /content/$ZZZ/extensions/sd-$HHH-controlnet/models -o control_v11e_sd15_ip2p_fp16.yaml\n",
        "!aria2c --console-log-level=error -c -x 16 -s 16 -k 1M https://huggingface.co/ckpt/ControlNet-v1-1/raw/main/control_v11e_sd15_shuffle_fp16.yaml -d /content/$ZZZ/extensions/sd-$HHH-controlnet/models -o control_v11e_sd15_shuffle_fp16.yaml\n",
        "!aria2c --console-log-level=error -c -x 16 -s 16 -k 1M https://huggingface.co/ckpt/ControlNet-v1-1/raw/main/control_v11p_sd15_canny_fp16.yaml -d /content/$ZZZ/extensions/sd-$HHH-controlnet/models -o control_v11p_sd15_canny_fp16.yaml\n",
        "!aria2c --console-log-level=error -c -x 16 -s 16 -k 1M https://huggingface.co/ckpt/ControlNet-v1-1/raw/main/control_v11f1p_sd15_depth_fp16.yaml -d /content/$ZZZ/extensions/sd-$HHH-controlnet/models -o control_v11f1p_sd15_depth_fp16.yaml\n",
        "!aria2c --console-log-level=error -c -x 16 -s 16 -k 1M https://huggingface.co/ckpt/ControlNet-v1-1/raw/main/control_v11p_sd15_inpaint_fp16.yaml -d /content/$ZZZ/extensions/sd-$HHH-controlnet/models -o control_v11p_sd15_inpaint_fp16.yaml\n",
        "!aria2c --console-log-level=error -c -x 16 -s 16 -k 1M https://huggingface.co/ckpt/ControlNet-v1-1/raw/main/control_v11p_sd15_lineart_fp16.yaml -d /content/$ZZZ/extensions/sd-$HHH-controlnet/models -o control_v11p_sd15_lineart_fp16.yaml\n",
        "!aria2c --console-log-level=error -c -x 16 -s 16 -k 1M https://huggingface.co/ckpt/ControlNet-v1-1/raw/main/control_v11p_sd15_mlsd_fp16.yaml -d /content/$ZZZ/extensions/sd-$HHH-controlnet/models -o control_v11p_sd15_mlsd_fp16.yaml\n",
        "!aria2c --console-log-level=error -c -x 16 -s 16 -k 1M https://huggingface.co/ckpt/ControlNet-v1-1/raw/main/control_v11p_sd15_normalbae_fp16.yaml -d /content/$ZZZ/extensions/sd-$HHH-controlnet/models -o control_v11p_sd15_normalbae_fp16.yaml\n",
        "!aria2c --console-log-level=error -c -x 16 -s 16 -k 1M https://huggingface.co/ckpt/ControlNet-v1-1/raw/main/control_v11p_sd15_openpose_fp16.yaml -d /content/$ZZZ/extensions/sd-$HHH-controlnet/models -o control_v11p_sd15_openpose_fp16.yaml\n",
        "!aria2c --console-log-level=error -c -x 16 -s 16 -k 1M https://huggingface.co/ckpt/ControlNet-v1-1/raw/main/control_v11p_sd15_scribble_fp16.yaml -d /content/$ZZZ/extensions/sd-$HHH-controlnet/models -o control_v11p_sd15_scribble_fp16.yaml\n",
        "!aria2c --console-log-level=error -c -x 16 -s 16 -k 1M https://huggingface.co/ckpt/ControlNet-v1-1/raw/main/control_v11p_sd15_seg_fp16.yaml -d /content/$ZZZ/extensions/sd-$HHH-controlnet/models -o control_v11p_sd15_seg_fp16.yaml\n",
        "!aria2c --console-log-level=error -c -x 16 -s 16 -k 1M https://huggingface.co/ckpt/ControlNet-v1-1/raw/main/control_v11p_sd15_softedge_fp16.yaml -d /content/$ZZZ/extensions/sd-$HHH-controlnet/models -o control_v11p_sd15_softedge_fp16.yaml\n",
        "!aria2c --console-log-level=error -c -x 16 -s 16 -k 1M https://huggingface.co/ckpt/ControlNet-v1-1/raw/main/control_v11p_sd15s2_lineart_anime_fp16.yaml -d /content/$ZZZ/extensions/sd-$HHH-controlnet/models -o control_v11p_sd15s2_lineart_anime_fp16.yaml\n",
        "!aria2c --console-log-level=error -c -x 16 -s 16 -k 1M https://huggingface.co/ckpt/ControlNet-v1-1/raw/main/control_v11f1e_sd15_tile_fp16.yaml -d /content/$ZZZ/extensions/sd-$HHH-controlnet/models -o control_v11f1e_sd15_tile_fp16.yaml\n",
        "!aria2c --console-log-level=error -c -x 16 -s 16 -k 1M https://huggingface.co/ckpt/ControlNet-v1-1/resolve/main/t2iadapter_style_sd14v1.pth -d /content/$ZZZ/extensions/sd-$HHH-controlnet/models -o t2iadapter_style_sd14v1.pth\n",
        "!aria2c --console-log-level=error -c -x 16 -s 16 -k 1M https://huggingface.co/ckpt/ControlNet-v1-1/resolve/main/t2iadapter_sketch_sd14v1.pth -d /content/$ZZZ/extensions/sd-$HHH-controlnet/models -o t2iadapter_sketch_sd14v1.pth\n",
        "!aria2c --console-log-level=error -c -x 16 -s 16 -k 1M https://huggingface.co/ckpt/ControlNet-v1-1/resolve/main/t2iadapter_seg_sd14v1.pth -d /content/$ZZZ/extensions/sd-$HHH-controlnet/models -o t2iadapter_seg_sd14v1.pth\n",
        "!aria2c --console-log-level=error -c -x 16 -s 16 -k 1M https://huggingface.co/ckpt/ControlNet-v1-1/resolve/main/t2iadapter_openpose_sd14v1.pth -d /content/$ZZZ/extensions/sd-$HHH-controlnet/models -o t2iadapter_openpose_sd14v1.pth\n",
        "!aria2c --console-log-level=error -c -x 16 -s 16 -k 1M https://huggingface.co/ckpt/ControlNet-v1-1/resolve/main/t2iadapter_keypose_sd14v1.pth -d /content/$ZZZ/extensions/sd-$HHH-controlnet/models -o t2iadapter_keypose_sd14v1.pth\n",
        "!aria2c --console-log-level=error -c -x 16 -s 16 -k 1M https://huggingface.co/ckpt/ControlNet-v1-1/resolve/main/t2iadapter_depth_sd14v1.pth -d /content/$ZZZ/extensions/sd-$HHH-controlnet/models -o t2iadapter_depth_sd14v1.pth\n",
        "!aria2c --console-log-level=error -c -x 16 -s 16 -k 1M https://huggingface.co/ckpt/ControlNet-v1-1/resolve/main/t2iadapter_color_sd14v1.pth -d /content/$ZZZ/extensions/sd-$HHH-controlnet/models -o t2iadapter_color_sd14v1.pth\n",
        "!aria2c --console-log-level=error -c -x 16 -s 16 -k 1M https://huggingface.co/ckpt/ControlNet-v1-1/resolve/main/t2iadapter_canny_sd14v1.pth -d /content/$ZZZ/extensions/sd-$HHH-controlnet/models -o t2iadapter_canny_sd14v1.pth\n",
        "!aria2c --console-log-level=error -c -x 16 -s 16 -k 1M https://huggingface.co/ckpt/ControlNet-v1-1/resolve/main/t2iadapter_canny_sd15v2.pth -d /content/$ZZZ/extensions/sd-$HHH-controlnet/models -o t2iadapter_canny_sd15v2.pth\n",
        "!aria2c --console-log-level=error -c -x 16 -s 16 -k 1M https://huggingface.co/ckpt/ControlNet-v1-1/resolve/main/t2iadapter_depth_sd15v2.pth -d /content/$ZZZ/extensions/sd-$HHH-controlnet/models -o t2iadapter_depth_sd15v2.pth\n",
        "!aria2c --console-log-level=error -c -x 16 -s 16 -k 1M https://huggingface.co/ckpt/ControlNet-v1-1/resolve/main/t2iadapter_sketch_sd15v2.pth -d /content/$ZZZ/extensions/sd-$HHH-controlnet/models -o t2iadapter_sketch_sd15v2.pth\n",
        "!aria2c --console-log-level=error -c -x 16 -s 16 -k 1M https://huggingface.co/ckpt/ControlNet-v1-1/resolve/main/t2iadapter_zoedepth_sd15v1.pth -d /content/$ZZZ/extensions/sd-$HHH-controlnet/models -o t2iadapter_zoedepth_sd15v1.pth\n",
        "\n",
        "!aria2c --console-log-level=error -c -x 16 -s 16 -k 1M https://huggingface.co/ckpt/sd15/resolve/main/v1-5-pruned-emaonly.ckpt -d /content/$ZZZ/models/Stable-diffusion -o v1-5-pruned-emaonly.ckpt\n",
        "\n",
        "!sed -i -e '''/    prepare_environment()/a\\    os.system\\(f\\\"\"\"sed -i -e ''\\\"s/dict()))/dict())).cuda()/g\\\"'' /content/$ZZZ/repositories/stable-diffusion-stability-ai/ldm/util.py\"\"\")''' /content/$ZZZ/launch.py\n",
        "!sed -i -e 's/\\\"sd_model_checkpoint\\\"\\,/\\\"sd_model_checkpoint\\,sd_vae\\,CLIP_stop_at_last_layers\\\"\\,/g' /content/$ZZZ/modules/shared.py\n",
        "\n",
        "#!git clone https://github.com/dtlnor/$sdw-localization-zh_CN /content/$ZZZ/extensions/$ZZZ-localization-zh_CN\n",
        "\n",
        "!python launch.py --listen --xformers --enable-insecure-extension-access --theme dark --gradio-queue --multiple"
      ],
      "metadata": {
        "id": "12vR0dEkM3AZ"
      },
      "execution_count": null,
      "outputs": []
    }
  ],
  "metadata": {
    "accelerator": "GPU",
    "colab": {
      "private_outputs": true,
      "provenance": [],
      "gpuType": "T4",
      "include_colab_link": true
    },
    "gpuClass": "standard",
    "kernelspec": {
      "display_name": "Python 3",
      "name": "python3"
    },
    "language_info": {
      "name": "python"
    }
  },
  "nbformat": 4,
  "nbformat_minor": 0
}